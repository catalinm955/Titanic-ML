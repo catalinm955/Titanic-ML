{
 "cells": [
  {
   "cell_type": "markdown",
   "id": "15246538",
   "metadata": {},
   "source": [
    "# Introduction\n",
    "This notebook summarizes and compares the results of all trained models, highlighting performance metrics, feature importance, and observations for model selection.\n"
   ]
  },
  {
   "cell_type": "markdown",
   "id": "45cddbee",
   "metadata": {},
   "source": [
    "# Import Libraries"
   ]
  },
  {
   "cell_type": "code",
   "execution_count": 29,
   "id": "599f0074",
   "metadata": {},
   "outputs": [],
   "source": [
    "import pandas as pd\n",
    "import pickle\n",
    "import os\n",
    "from sklearn.metrics import accuracy_score, f1_score, precision_score, recall_score, confusion_matrix"
   ]
  },
  {
   "cell_type": "markdown",
   "id": "1af8b202",
   "metadata": {},
   "source": [
    "# Load Results"
   ]
  },
  {
   "cell_type": "code",
   "execution_count": 15,
   "id": "26e5800c",
   "metadata": {},
   "outputs": [
    {
     "data": {
      "text/html": [
       "<div>\n",
       "<style scoped>\n",
       "    .dataframe tbody tr th:only-of-type {\n",
       "        vertical-align: middle;\n",
       "    }\n",
       "\n",
       "    .dataframe tbody tr th {\n",
       "        vertical-align: top;\n",
       "    }\n",
       "\n",
       "    .dataframe thead th {\n",
       "        text-align: right;\n",
       "    }\n",
       "</style>\n",
       "<table border=\"1\" class=\"dataframe\">\n",
       "  <thead>\n",
       "    <tr style=\"text-align: right;\">\n",
       "      <th></th>\n",
       "      <th>y_val</th>\n",
       "      <th>y_pred</th>\n",
       "    </tr>\n",
       "  </thead>\n",
       "  <tbody>\n",
       "    <tr>\n",
       "      <th>0</th>\n",
       "      <td>1</td>\n",
       "      <td>0</td>\n",
       "    </tr>\n",
       "    <tr>\n",
       "      <th>1</th>\n",
       "      <td>0</td>\n",
       "      <td>0</td>\n",
       "    </tr>\n",
       "    <tr>\n",
       "      <th>2</th>\n",
       "      <td>0</td>\n",
       "      <td>1</td>\n",
       "    </tr>\n",
       "    <tr>\n",
       "      <th>3</th>\n",
       "      <td>0</td>\n",
       "      <td>0</td>\n",
       "    </tr>\n",
       "    <tr>\n",
       "      <th>4</th>\n",
       "      <td>0</td>\n",
       "      <td>0</td>\n",
       "    </tr>\n",
       "  </tbody>\n",
       "</table>\n",
       "</div>"
      ],
      "text/plain": [
       "   y_val  y_pred\n",
       "0      1       0\n",
       "1      0       0\n",
       "2      0       1\n",
       "3      0       0\n",
       "4      0       0"
      ]
     },
     "execution_count": 15,
     "metadata": {},
     "output_type": "execute_result"
    }
   ],
   "source": [
    "# Get the logistic_regression_baseline_results.csv path\n",
    "main_dir = os.path.dirname(os.getcwd())\n",
    "lr_file_path = os.path.join(main_dir, 'data', 'processed', 'lr_baseline_results.csv')\n",
    "\n",
    "# Load the logistic_regression_baseline_results.csv\n",
    "lr_results = pd.read_csv(lr_file_path)\n",
    "lr_results.head()"
   ]
  },
  {
   "cell_type": "markdown",
   "id": "a49b26b6",
   "metadata": {},
   "source": [
    "# Baseline Models Evaluation"
   ]
  },
  {
   "cell_type": "code",
   "execution_count": 43,
   "id": "fda8526a",
   "metadata": {},
   "outputs": [
    {
     "data": {
      "text/html": [
       "<div>\n",
       "<style scoped>\n",
       "    .dataframe tbody tr th:only-of-type {\n",
       "        vertical-align: middle;\n",
       "    }\n",
       "\n",
       "    .dataframe tbody tr th {\n",
       "        vertical-align: top;\n",
       "    }\n",
       "\n",
       "    .dataframe thead th {\n",
       "        text-align: right;\n",
       "    }\n",
       "</style>\n",
       "<table border=\"1\" class=\"dataframe\">\n",
       "  <thead>\n",
       "    <tr style=\"text-align: right;\">\n",
       "      <th></th>\n",
       "      <th>model</th>\n",
       "      <th>accuracy_score</th>\n",
       "      <th>f1_score</th>\n",
       "      <th>precision_score</th>\n",
       "      <th>recall_score</th>\n",
       "      <th>confusion_matrix</th>\n",
       "    </tr>\n",
       "  </thead>\n",
       "  <tbody>\n",
       "    <tr>\n",
       "      <th>0</th>\n",
       "      <td>Logistic Regression</td>\n",
       "      <td>0.810056</td>\n",
       "      <td>0.767123</td>\n",
       "      <td>0.727273</td>\n",
       "      <td>0.811594</td>\n",
       "      <td>[[89, 21], [13, 56]]</td>\n",
       "    </tr>\n",
       "  </tbody>\n",
       "</table>\n",
       "</div>"
      ],
      "text/plain": [
       "                 model  accuracy_score  f1_score  precision_score  \\\n",
       "0  Logistic Regression        0.810056  0.767123         0.727273   \n",
       "\n",
       "   recall_score      confusion_matrix  \n",
       "0      0.811594  [[89, 21], [13, 56]]  "
      ]
     },
     "execution_count": 43,
     "metadata": {},
     "output_type": "execute_result"
    }
   ],
   "source": [
    "# Create a function to compute all the evaluation metrics and store them inside a DataFrame\n",
    "def model_evaluation(df, model_name='Model', y_val='y_val', y_pred='y_pred'):\n",
    "    metrics = {\n",
    "        'model': [model_name],\n",
    "        'accuracy_score': [accuracy_score(df[y_val], df[y_pred])],\n",
    "        'f1_score': [f1_score(df[y_val], df[y_pred])],\n",
    "        'precision_score': [precision_score(df[y_val], df[y_pred])],\n",
    "        'recall_score': [recall_score(df[y_val], df[y_pred])],\n",
    "        'confusion_matrix': [confusion_matrix(df[y_val], df[y_pred])]\n",
    "    }\n",
    "\n",
    "    return pd.DataFrame(metrics)\n",
    "\n",
    "# Call the function\n",
    "df_lr_eval = model_evaluation(lr_results, 'Logistic Regression')\n",
    "\n",
    "# Concatenate all eval into a single DataFrame\n",
    "df_metrics = pd.concat([df_lr_eval])\n",
    "df_metrics\n"
   ]
  },
  {
   "cell_type": "markdown",
   "id": "f5e7fb6d",
   "metadata": {},
   "source": [
    "# Advanced Models Evaluation"
   ]
  },
  {
   "cell_type": "code",
   "execution_count": null,
   "id": "6c132220",
   "metadata": {},
   "outputs": [],
   "source": []
  },
  {
   "cell_type": "markdown",
   "id": "9cb06184",
   "metadata": {},
   "source": [
    "# Comparisons and Observation"
   ]
  },
  {
   "cell_type": "code",
   "execution_count": null,
   "id": "d98423dd",
   "metadata": {},
   "outputs": [],
   "source": []
  },
  {
   "cell_type": "markdown",
   "id": "453c4334",
   "metadata": {},
   "source": [
    "# (Optional) Export Results"
   ]
  },
  {
   "cell_type": "code",
   "execution_count": null,
   "id": "b4e9c03a",
   "metadata": {},
   "outputs": [],
   "source": []
  }
 ],
 "metadata": {
  "kernelspec": {
   "display_name": "venv",
   "language": "python",
   "name": "python3"
  },
  "language_info": {
   "codemirror_mode": {
    "name": "ipython",
    "version": 3
   },
   "file_extension": ".py",
   "mimetype": "text/x-python",
   "name": "python",
   "nbconvert_exporter": "python",
   "pygments_lexer": "ipython3",
   "version": "3.12.2"
  }
 },
 "nbformat": 4,
 "nbformat_minor": 5
}
