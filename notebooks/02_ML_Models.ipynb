{
 "cells": [
  {
   "cell_type": "markdown",
   "id": "91837bd8",
   "metadata": {},
   "source": [
    "# Import Libraries"
   ]
  },
  {
   "cell_type": "code",
   "execution_count": 69,
   "id": "61377ec3",
   "metadata": {},
   "outputs": [],
   "source": [
    "import pandas as pd\n",
    "import os\n",
    "import json\n",
    "import joblib\n",
    "from sklearn.model_selection import train_test_split\n",
    "from sklearn.linear_model import LogisticRegression\n",
    "from sklearn.tree import DecisionTreeClassifier\n",
    "from sklearn.ensemble import RandomForestClassifier\n",
    "from sklearn.compose import ColumnTransformer\n",
    "from sklearn.pipeline import Pipeline\n",
    "from sklearn.preprocessing import StandardScaler\n",
    "from sklearn.preprocessing import OneHotEncoder\n",
    "from xgboost import XGBClassifier\n",
    "from scipy.stats import randint\n",
    "from sklearn.model_selection import RandomizedSearchCV\n",
    "import matplotlib.pyplot as plt\n",
    "import seaborn as sns"
   ]
  },
  {
   "cell_type": "markdown",
   "id": "71698f2a",
   "metadata": {},
   "source": [
    "# Baseline Models"
   ]
  },
  {
   "cell_type": "markdown",
   "id": "2c6ec411",
   "metadata": {},
   "source": [
    "## Load data"
   ]
  },
  {
   "cell_type": "code",
   "execution_count": 70,
   "id": "73f29c4d",
   "metadata": {},
   "outputs": [],
   "source": [
    "# Generate file_path\n",
    "main_dir = os.path.dirname(os.getcwd())\n",
    "file_path_encoded = os.path.join(main_dir, 'data', 'processed', 'train_dataset_processed_encoded.csv')\n",
    "\n",
    "# Read the csv based on the file_path\n",
    "train_dataset_processed_encoded = pd.read_csv(file_path_encoded)"
   ]
  },
  {
   "cell_type": "code",
   "execution_count": 71,
   "id": "ec2d1c9c",
   "metadata": {},
   "outputs": [],
   "source": [
    "# Open the all_features JSON to extract the all_features list\n",
    "main_dir = os.path.dirname(os.getcwd())\n",
    "processed_path = os.path.join(main_dir, 'data', 'processed', 'all_features.json')\n",
    "with open(processed_path, 'r') as f:\n",
    "    all_features = json.load(f)\n",
    "\n",
    "# Store the features into X and the target into y\n",
    "X = train_dataset_processed_encoded[all_features]\n",
    "y = train_dataset_processed_encoded['Survived']\n",
    "\n",
    "# Store X with log-transformed numerical features\n",
    "X_log = train_dataset_processed_encoded[all_features].drop(\"Fare\", axis = 1)\n",
    "X_log['Fare_log'] = train_dataset_processed_encoded['Fare_log'].copy()\n",
    "\n",
    "# Store X with standard scaled numerical features\n",
    "X_standard_scaled = train_dataset_processed_encoded[all_features].drop(\"Fare\", axis = 1)\n",
    "X_standard_scaled['Fare_StandardScaled'] = train_dataset_processed_encoded['Fare_StandardScaled'].copy()\n",
    "\n",
    "# Store X with min_max scaled numerical features\n",
    "X_min_max_scaled = train_dataset_processed_encoded[all_features].drop(\"Fare\", axis = 1)\n",
    "X_min_max_scaled['Fare_MinMaxScaled'] = train_dataset_processed_encoded['Fare_MinMaxScaled'].copy()"
   ]
  },
  {
   "cell_type": "markdown",
   "id": "ef84c12e",
   "metadata": {},
   "source": [
    "## Train/Test split"
   ]
  },
  {
   "cell_type": "code",
   "execution_count": 72,
   "id": "fdca2955",
   "metadata": {},
   "outputs": [],
   "source": [
    "# Split the data into Train and Test\n",
    "X_train, X_val, y_train, y_val = train_test_split(X, y, test_size = 0.2, random_state = 15, stratify = y)\n",
    "\n",
    "# Split the data for log-transformed features\n",
    "X_train_log, X_val_log, y_train_log, y_val_log = train_test_split(X_log, y, test_size = 0.2, random_state = 15, stratify = y)\n",
    "\n",
    "# Split the data for Standard Scaled features\n",
    "X_train_standard_scaled, X_val_standard_scaled, y_train_standard_scaled, y_val_standard_scaled = train_test_split(\n",
    "    X_standard_scaled, y, test_size = 0.2, random_state = 15, stratify = y\n",
    ")\n",
    "\n",
    "# Split the data for MinMax Scale features\n",
    "X_train_min_max_scaled, X_val_min_max_scaled, y_train_min_max_scaled, y_val_min_max_scaled = train_test_split(\n",
    "    X_min_max_scaled, y, test_size = 0.2, random_state = 15, stratify = y\n",
    ")\n"
   ]
  },
  {
   "cell_type": "markdown",
   "id": "427be3cb",
   "metadata": {},
   "source": [
    "## Train and Predict"
   ]
  },
  {
   "cell_type": "code",
   "execution_count": 73,
   "id": "e240a915",
   "metadata": {},
   "outputs": [],
   "source": [
    "def model_train_predict(model, \n",
    "                        random_state, \n",
    "                        X_train, \n",
    "                        y_train, \n",
    "                        X_val,\n",
    "                        y_val,\n",
    "                        model_path_name, \n",
    "                        results_path_name):\n",
    "    # Initialize the model\n",
    "    model = model(random_state = random_state)\n",
    "\n",
    "    # Train the model\n",
    "    model.fit(X_train, y_train)\n",
    "\n",
    "    # Export the model\n",
    "    model_path = os.path.join(main_dir, 'models', 'Baseline', model_path_name)\n",
    "    joblib.dump(model, model_path)\n",
    "\n",
    "    # Predict y_val\n",
    "    y_pred = model.predict(X_val)\n",
    "\n",
    "    # Build the DataFrame\n",
    "    df_val = pd.DataFrame({\n",
    "        'y_val': y_val,\n",
    "        'y_pred': y_pred\n",
    "    })\n",
    "\n",
    "    # Export the results csv\n",
    "    results_path = os.path.join(main_dir, 'data', 'processed', 'Baseline', results_path_name)\n",
    "    df_val.to_csv(results_path, index = False)"
   ]
  },
  {
   "cell_type": "markdown",
   "id": "ee4cbb2e",
   "metadata": {},
   "source": [
    "### Models"
   ]
  },
  {
   "cell_type": "code",
   "execution_count": 74,
   "id": "dde9a99d",
   "metadata": {},
   "outputs": [],
   "source": [
    "# Logistic Regression\n",
    "model_train_predict(LogisticRegression, 15, X_train, y_train, X_val, y_val, 'lr.pkl', 'lr_results.csv')\n",
    "model_train_predict(LogisticRegression, 15, X_train_log, y_train_log, X_val_log, y_val_log, 'lr_log.pkl', 'lr_log_results.csv')\n",
    "model_train_predict(LogisticRegression, 15, X_train_standard_scaled, y_train_standard_scaled, X_val_standard_scaled, y_val_standard_scaled, 'lr_standard_scaled.pkl', 'lr_standard_scaled_results.csv')\n",
    "model_train_predict(LogisticRegression, 15, X_train_min_max_scaled, y_train_min_max_scaled, X_val_min_max_scaled, y_val_min_max_scaled, 'lr_min_max_scaled.pkl', 'lr_min_max_scaled_results.csv')\n",
    "\n",
    "# Decision Tree Classifier\n",
    "model_train_predict(DecisionTreeClassifier, 15, X_train, y_train, X_val, y_val, 'dtc.pkl', 'dtc_results.csv')\n",
    "model_train_predict(DecisionTreeClassifier, 15, X_train_log, y_train_log, X_val_log, y_val_log, 'dtc_log.pkl', 'dtc_log_results.csv')\n",
    "model_train_predict(DecisionTreeClassifier, 15, X_train_standard_scaled, y_train_standard_scaled, X_val_standard_scaled, y_val_standard_scaled, 'dtc_standard_scaled.pkl', 'dtc_standard_scaled_results.csv')\n",
    "model_train_predict(DecisionTreeClassifier, 15, X_train_min_max_scaled, y_train_min_max_scaled, X_val_min_max_scaled, y_val_min_max_scaled, 'dtc_min_max_scaled.pkl', 'dtc_min_max_scaled_results.csv')\n",
    "\n",
    "\n",
    "# Random Forest Classifier\n",
    "model_train_predict(RandomForestClassifier, 15, X_train, y_train, X_val, y_val, 'rfc.pkl', 'rfc_results.csv')\n",
    "\n",
    "# XGBoost\n",
    "model_train_predict(XGBClassifier, 15, X_train, y_train, X_val, y_val, 'xgbc.pkl', 'xgbc_results.csv')"
   ]
  },
  {
   "cell_type": "markdown",
   "id": "7dcf5569",
   "metadata": {},
   "source": [
    "# Advanced Models"
   ]
  },
  {
   "cell_type": "markdown",
   "id": "767fbfb1",
   "metadata": {},
   "source": [
    "## Load Data"
   ]
  },
  {
   "cell_type": "code",
   "execution_count": 75,
   "id": "4fe42417",
   "metadata": {},
   "outputs": [],
   "source": [
    "file_path = os.path.join(main_dir, 'data', 'processed', 'train_dataset_processed.csv')\n",
    "train_dataset_processed = pd.read_csv(file_path)"
   ]
  },
  {
   "cell_type": "markdown",
   "id": "f51451bf",
   "metadata": {},
   "source": [
    "## Train/Test Split"
   ]
  },
  {
   "cell_type": "code",
   "execution_count": 76,
   "id": "d6926131",
   "metadata": {},
   "outputs": [],
   "source": [
    "# Select features and store them in X, y\n",
    "pipeline_features = ['Pclass', 'Fare', 'Sex', 'Embarked']\n",
    "X = train_dataset_processed[pipeline_features]\n",
    "y = train_dataset_processed['Survived']\n",
    "\n",
    "# Train/test split\n",
    "X_train, X_val, y_train, y_val = train_test_split(X, y, test_size = 0.2, random_state = 15)"
   ]
  },
  {
   "cell_type": "markdown",
   "id": "b997d4c3",
   "metadata": {},
   "source": [
    "## Preprocessing"
   ]
  },
  {
   "cell_type": "code",
   "execution_count": 77,
   "id": "b8dd1ed2",
   "metadata": {},
   "outputs": [
    {
     "data": {
      "text/html": [
       "<div>\n",
       "<style scoped>\n",
       "    .dataframe tbody tr th:only-of-type {\n",
       "        vertical-align: middle;\n",
       "    }\n",
       "\n",
       "    .dataframe tbody tr th {\n",
       "        vertical-align: top;\n",
       "    }\n",
       "\n",
       "    .dataframe thead th {\n",
       "        text-align: right;\n",
       "    }\n",
       "</style>\n",
       "<table border=\"1\" class=\"dataframe\">\n",
       "  <thead>\n",
       "    <tr style=\"text-align: right;\">\n",
       "      <th></th>\n",
       "      <th>Fare</th>\n",
       "      <th>Sex_female</th>\n",
       "      <th>Sex_male</th>\n",
       "      <th>Embarked_C</th>\n",
       "      <th>Embarked_Missing</th>\n",
       "      <th>Embarked_Q</th>\n",
       "      <th>Embarked_S</th>\n",
       "    </tr>\n",
       "  </thead>\n",
       "  <tbody>\n",
       "    <tr>\n",
       "      <th>0</th>\n",
       "      <td>-0.118505</td>\n",
       "      <td>1.0</td>\n",
       "      <td>0.0</td>\n",
       "      <td>0.0</td>\n",
       "      <td>0.0</td>\n",
       "      <td>0.0</td>\n",
       "      <td>1.0</td>\n",
       "    </tr>\n",
       "    <tr>\n",
       "      <th>1</th>\n",
       "      <td>0.875881</td>\n",
       "      <td>0.0</td>\n",
       "      <td>1.0</td>\n",
       "      <td>0.0</td>\n",
       "      <td>0.0</td>\n",
       "      <td>0.0</td>\n",
       "      <td>1.0</td>\n",
       "    </tr>\n",
       "    <tr>\n",
       "      <th>2</th>\n",
       "      <td>-0.419026</td>\n",
       "      <td>1.0</td>\n",
       "      <td>0.0</td>\n",
       "      <td>0.0</td>\n",
       "      <td>0.0</td>\n",
       "      <td>0.0</td>\n",
       "      <td>1.0</td>\n",
       "    </tr>\n",
       "    <tr>\n",
       "      <th>3</th>\n",
       "      <td>-0.230715</td>\n",
       "      <td>0.0</td>\n",
       "      <td>1.0</td>\n",
       "      <td>0.0</td>\n",
       "      <td>0.0</td>\n",
       "      <td>0.0</td>\n",
       "      <td>1.0</td>\n",
       "    </tr>\n",
       "    <tr>\n",
       "      <th>4</th>\n",
       "      <td>-0.468951</td>\n",
       "      <td>0.0</td>\n",
       "      <td>1.0</td>\n",
       "      <td>0.0</td>\n",
       "      <td>0.0</td>\n",
       "      <td>0.0</td>\n",
       "      <td>1.0</td>\n",
       "    </tr>\n",
       "  </tbody>\n",
       "</table>\n",
       "</div>"
      ],
      "text/plain": [
       "       Fare  Sex_female  Sex_male  Embarked_C  Embarked_Missing  Embarked_Q  \\\n",
       "0 -0.118505         1.0       0.0         0.0               0.0         0.0   \n",
       "1  0.875881         0.0       1.0         0.0               0.0         0.0   \n",
       "2 -0.419026         1.0       0.0         0.0               0.0         0.0   \n",
       "3 -0.230715         0.0       1.0         0.0               0.0         0.0   \n",
       "4 -0.468951         0.0       1.0         0.0               0.0         0.0   \n",
       "\n",
       "   Embarked_S  \n",
       "0         1.0  \n",
       "1         1.0  \n",
       "2         1.0  \n",
       "3         1.0  \n",
       "4         1.0  "
      ]
     },
     "execution_count": 77,
     "metadata": {},
     "output_type": "execute_result"
    }
   ],
   "source": [
    "# Select the features to be preprocessed\n",
    "numeric_features = ['Fare']\n",
    "categorical_features = ['Sex', 'Embarked']\n",
    "\n",
    "# Initialize the preprocessors\n",
    "numeric_transformer = StandardScaler()\n",
    "categorical_transformer = OneHotEncoder(handle_unknown = 'ignore') # for advanced models there is no need to use drop = 'first'\n",
    "\n",
    "preprocessor = ColumnTransformer([\n",
    "    ('num', numeric_transformer, numeric_features),\n",
    "    ('categorical', categorical_transformer, categorical_features)\n",
    "])\n",
    "\n",
    "X_train_transformed = preprocessor.fit_transform(X_train)\n",
    "\n",
    "# Check the preprocessor\n",
    "ohe_feature_names = preprocessor.named_transformers_['categorical'].get_feature_names_out(categorical_features)\n",
    "all_feature_names = numeric_features + list(ohe_feature_names)\n",
    "df_X_train_transformed = pd.DataFrame(X_train_transformed, columns = all_feature_names)\n",
    "df_X_train_transformed.head()\n"
   ]
  },
  {
   "cell_type": "markdown",
   "id": "78cce8b8",
   "metadata": {},
   "source": [
    "## Standard Pipeline"
   ]
  },
  {
   "cell_type": "code",
   "execution_count": 78,
   "id": "e14f840e",
   "metadata": {},
   "outputs": [],
   "source": [
    "# Define Pipeline and model\n",
    "rfc = Pipeline(steps=[\n",
    "    ('preprocessor', preprocessor),\n",
    "    ('model', RandomForestClassifier(random_state = 15))\n",
    "])\n",
    "\n",
    "# Train the model\n",
    "rfc.fit(X_train, y_train)\n",
    "\n",
    "# Predict\n",
    "y_pred = rfc.predict(X_val)\n",
    "\n",
    "# Create the dataframe\n",
    "df_results = pd.DataFrame({\n",
    "    'y_val': y_val,\n",
    "    'y_pred': y_pred\n",
    "})\n",
    "\n",
    "# Export the df_results to csv\n",
    "rfc_path = os.path.join(main_dir, 'data', 'processed', 'Advanced', 'rfc_results.csv')\n",
    "df_results.to_csv(rfc_path, index = False)"
   ]
  },
  {
   "cell_type": "markdown",
   "id": "37a59969",
   "metadata": {},
   "source": [
    "## Pipeline with Hyperparameters tunning"
   ]
  },
  {
   "cell_type": "code",
   "execution_count": 79,
   "id": "bc022180",
   "metadata": {},
   "outputs": [
    {
     "name": "stdout",
     "output_type": "stream",
     "text": [
      "Fitting 5 folds for each of 30 candidates, totalling 150 fits\n",
      "Best parameters: {'model__max_depth': 13, 'model__max_features': None, 'model__min_samples_leaf': 3, 'model__min_samples_split': 14, 'model__n_estimators': 307}\n",
      "Best precision score: 0.7842421510990844\n"
     ]
    }
   ],
   "source": [
    "# Define Pipeline and model\n",
    "rfc = Pipeline(steps=[\n",
    "    ('preprocessor', preprocessor),\n",
    "    ('model', RandomForestClassifier(random_state = 15))\n",
    "])\n",
    "\n",
    "# Define hyperparameters\n",
    "param_distributions = {\n",
    "    'model__n_estimators': randint(100, 500),\n",
    "    'model__max_depth': randint(3, 20),\n",
    "    'model__min_samples_split': randint(2, 20),\n",
    "    'model__min_samples_leaf': randint(1, 10),\n",
    "    'model__max_features': ['sqrt', 'log2', None]\n",
    "}\n",
    "\n",
    "# Initialize RandomizedSearchCV\n",
    "random_search = RandomizedSearchCV(\n",
    "    rfc,\n",
    "    param_distributions = param_distributions,\n",
    "    n_iter = 30,\n",
    "    scoring = 'precision',\n",
    "    cv = 5, \n",
    "    verbose = 2,\n",
    "    random_state = 15,\n",
    "    n_jobs = -1 # Run with all CPU cores\n",
    ")\n",
    "\n",
    "# Fit on training data\n",
    "random_search.fit(X_train, y_train)\n",
    "\n",
    "# Best parameters selection\n",
    "print(\"Best parameters:\", random_search.best_params_)\n",
    "print(\"Best precision score:\", random_search.best_score_)\n",
    "\n",
    "# Evaluate on valiation set\n",
    "best_model = random_search.best_estimator_\n",
    "y_pred = best_model.predict(X_val)\n",
    "\n",
    "# Generate the DF and export it\n",
    "df_val_pred = pd.DataFrame({\n",
    "    'y_val': y_val,\n",
    "    'y_pred': y_pred\n",
    "})\n",
    "rfc_hyperparam_path = os.path.join(main_dir, 'data', 'processed', 'Advanced', 'rfc_hyperparam_results.csv')\n",
    "df_val_pred.to_csv(rfc_hyperparam_path, index = False)\n"
   ]
  },
  {
   "cell_type": "markdown",
   "id": "b5607602",
   "metadata": {},
   "source": [
    "# Auto Advanced Models\n",
    "Let the model automatically select the best hyperparameters and columns"
   ]
  },
  {
   "cell_type": "code",
   "execution_count": 80,
   "id": "ac25993b",
   "metadata": {},
   "outputs": [
    {
     "name": "stdout",
     "output_type": "stream",
     "text": [
      "Fitting 5 folds for each of 30 candidates, totalling 150 fits\n",
      "Best parameters: {'model__max_depth': 16, 'model__max_features': 'log2', 'model__min_samples_leaf': 2, 'model__min_samples_split': 8, 'model__n_estimators': 148}\n",
      "Best precision score: 0.794040404040404\n"
     ]
    },
    {
     "data": {
      "text/plain": [
       "Sex_female                      0.170149\n",
       "Sex_male                        0.156126\n",
       "Fare                            0.125683\n",
       "Age                             0.109595\n",
       "Pclass                          0.101221\n",
       "Cabin_M                         0.057622\n",
       "Cabin_E                         0.040525\n",
       "SibSp                           0.035870\n",
       "Parch                           0.033618\n",
       "Ticket_clean_Number             0.026234\n",
       "Cabin_B                         0.022521\n",
       "Age_was_nan                     0.021073\n",
       "Ticket_clean_Prefix+Number      0.016758\n",
       "Embarked_C                      0.013504\n",
       "Ticket_clean_STON               0.011247\n",
       "Cabin_C                         0.010765\n",
       "Embarked_S                      0.009793\n",
       "Cabin_D                         0.008100\n",
       "Ticket_clean_Rare Categories    0.007261\n",
       "Embarked_Q                      0.006925\n",
       "Cabin_A                         0.006419\n",
       "Ticket_clean_A                  0.003500\n",
       "Ticket_clean_SC                 0.002846\n",
       "Ticket_clean_SOTON              0.002427\n",
       "Cabin_F                         0.000219\n",
       "Cabin_G                         0.000000\n",
       "Embarked_Missing                0.000000\n",
       "Ticket_clean_W.                 0.000000\n",
       "dtype: float64"
      ]
     },
     "metadata": {},
     "output_type": "display_data"
    },
    {
     "data": {
      "text/plain": [
       "Text(0.5, 1.0, 'Feature Importance')"
      ]
     },
     "execution_count": 80,
     "metadata": {},
     "output_type": "execute_result"
    },
    {
     "data": {
      "image/png": "[encoded data removed]",
      "text/plain": [
       "<Figure size 2000x500 with 1 Axes>"
      ]
     },
     "metadata": {},
     "output_type": "display_data"
    }
   ],
   "source": [
    "# Select the features\n",
    "df_all_features = train_dataset_processed.drop(['PassengerId', 'Survived', 'Name', 'Ticket'], axis = 1)\n",
    "num_features = df_all_features.select_dtypes(['int64', 'float64']).columns.tolist()\n",
    "cat_features = df_all_features.select_dtypes('object').columns.tolist()\n",
    "\n",
    "X = df_all_features\n",
    "y = train_dataset_processed['Survived']\n",
    "\n",
    "# Train/Test split for all the features\n",
    "X_train, X_val, y_train, y_val = train_test_split(X, y, train_size = 0.2, random_state = 15, stratify = y)\n",
    "\n",
    "# Initialize the preprocessors\n",
    "num_transformer = StandardScaler()\n",
    "cat_transformer = OneHotEncoder(handle_unknown = 'ignore')\n",
    "\n",
    "preprocessor = ColumnTransformer([\n",
    "    ('num', num_transformer, num_features),\n",
    "    ('cat', cat_transformer, cat_features)\n",
    "])\n",
    "\n",
    "X_train_transformed = preprocessor.fit_transform(X_train)\n",
    "\n",
    "# Check the processor\n",
    "ohe_feature_names = preprocessor.named_transformers_['cat'].get_feature_names_out(cat_features)\n",
    "all_feature_names = num_features + list(ohe_feature_names)\n",
    "df_X_train_transformed = pd.DataFrame(X_train_transformed.toarray() if hasattr(X_train_transformed, \"toarray\") else X_train_transformed, \n",
    "                                      columns=all_feature_names)\n",
    "\n",
    "# Initialize the Pipeline\n",
    "rfc = Pipeline(steps=[\n",
    "    ('preprocessor', preprocessor),\n",
    "    ('model', RandomForestClassifier(random_state=15))\n",
    "])\n",
    "\n",
    "# Define hyperparameters\n",
    "param_distributions = {\n",
    "    'model__n_estimators': randint(100, 500),\n",
    "    'model__max_depth': randint(3, 20),\n",
    "    'model__min_samples_split': randint(2, 20),\n",
    "    'model__min_samples_leaf': randint(1, 10),\n",
    "    'model__max_features': ['sqrt', 'log2', None]\n",
    "}\n",
    "\n",
    "# Initialize RandomSearchCV\n",
    "random_search = RandomizedSearchCV(\n",
    "    rfc,\n",
    "    param_distributions = param_distributions,\n",
    "    n_iter = 30,\n",
    "    scoring = 'precision',\n",
    "    cv = 5, \n",
    "    verbose = 2,\n",
    "    random_state = 15,\n",
    "    n_jobs = -1 # Run with all CPU cores\n",
    ")\n",
    "\n",
    "# Fit on training data\n",
    "random_search.fit(X_train, y_train)\n",
    "\n",
    "# Best parameters selection\n",
    "print(\"Best parameters:\", random_search.best_params_)\n",
    "print(\"Best precision score:\", random_search.best_score_)\n",
    "\n",
    "# Evaluate on valiation set\n",
    "best_model = random_search.best_estimator_\n",
    "y_pred = best_model.predict(X_val)\n",
    "\n",
    "# Generate the DF and export it\n",
    "df_val_pred = pd.DataFrame({\n",
    "    'y_val': y_val,\n",
    "    'y_pred': y_pred\n",
    "})\n",
    "rfc_hyperparam_path = os.path.join(main_dir, 'data', 'processed', 'Advanced', 'rfc_hyperparam_auto_results.csv')\n",
    "df_val_pred.to_csv(rfc_hyperparam_path, index = False)\n",
    "\n",
    "# Feature Importance\n",
    "rf = best_model.named_steps['model'] # Extract the best model from the Pipeline\n",
    "feature_names = num_features + list(best_model.named_steps['preprocessor'].named_transformers_['cat'].get_feature_names_out(cat_features))\n",
    "importances = pd.Series(rf.feature_importances_, index = feature_names).sort_values(ascending = False)\n",
    "\n",
    "display(importances)\n",
    "\n",
    "plt.figure(figsize = (20,5))\n",
    "sns.barplot(importances)\n",
    "plt.title('Feature Importance')\n",
    "\n"
   ]
  },
  {
   "cell_type": "markdown",
   "id": "7ad4d327",
   "metadata": {},
   "source": [
    "## Exclude features with low importance"
   ]
  },
  {
   "cell_type": "code",
   "execution_count": 81,
   "id": "faef7dc0",
   "metadata": {},
   "outputs": [],
   "source": [
    "# Select features with importance >= 1%\n",
    "selected_features = importances[importances >= 0.01].index.tolist()\n",
    "\n",
    "# Transform X_val as X_train\n",
    "X_val_transformed = preprocessor.transform(X_val)  # folosim același preprocessor\n",
    "df_X_val_transformed = pd.DataFrame(\n",
    "    X_val_transformed.toarray() if hasattr(X_val_transformed, \"toarray\") else X_val_transformed,\n",
    "    columns=df_X_train_transformed.columns\n",
    ")\n",
    "\n",
    "# Subset on selected features\n",
    "X_train_selected = df_X_train_transformed[selected_features]\n",
    "X_val_selected = df_X_val_transformed[selected_features]\n",
    "\n",
    "# Target\n",
    "y_train_selected = y_train\n",
    "y_val_selected = y_val\n",
    "\n",
    "# Fit model\n",
    "rfc = RandomForestClassifier(random_state=15)\n",
    "rfc.fit(X_train_selected, y_train_selected)\n",
    "\n",
    "# Export the model\n",
    "rfc_auto_select_path = os.path.join(main_dir, 'models', 'Advanced', 'rfc_auto_select.pkl')\n",
    "joblib.dump(rfc, rfc_auto_select_path)\n",
    "\n",
    "# Predict\n",
    "y_selected_pred = rfc.predict(X_val_selected)\n",
    "\n",
    "# DataFrame cu rezultate\n",
    "df_rfc_auto_selected = pd.DataFrame({\n",
    "    'y_val': y_val_selected,\n",
    "    'y_pred': y_selected_pred\n",
    "})\n",
    "\n",
    "# Export the DataFrame\n",
    "rfc_auto_selected_path = os.path.join(main_dir, 'data', 'processed', 'Advanced', 'df_rfc_auto_selected_results.csv')\n",
    "df_rfc_auto_selected.to_csv(rfc_auto_selected_path, index = False)\n"
   ]
  },
  {
   "cell_type": "code",
   "execution_count": 85,
   "id": "86c7829d",
   "metadata": {},
   "outputs": [
    {
     "ename": "ValueError",
     "evalue": "The feature names should match those that were passed during fit.\nFeature names unseen at fit time:\n- Cabin\n- Embarked\n- Name\n- PassengerId\n- Sex\n- ...\nFeature names seen at fit time, yet now missing:\n- Age_was_nan\n- Cabin_B\n- Cabin_C\n- Cabin_E\n- Cabin_M\n- ...\n",
     "output_type": "error",
     "traceback": [
      "\u001b[31m---------------------------------------------------------------------------\u001b[39m",
      "\u001b[31mValueError\u001b[39m                                Traceback (most recent call last)",
      "\u001b[36mCell\u001b[39m\u001b[36m \u001b[39m\u001b[32mIn[85]\u001b[39m\u001b[32m, line 2\u001b[39m\n\u001b[32m      1\u001b[39m test = pd.read_csv(os.path.join(os.path.dirname(os.getcwd()), \u001b[33m'\u001b[39m\u001b[33mdata\u001b[39m\u001b[33m'\u001b[39m, \u001b[33m'\u001b[39m\u001b[33mraw\u001b[39m\u001b[33m'\u001b[39m, \u001b[33m'\u001b[39m\u001b[33mtest.csv\u001b[39m\u001b[33m'\u001b[39m))\n\u001b[32m----> \u001b[39m\u001b[32m2\u001b[39m \u001b[43mrfc\u001b[49m\u001b[43m.\u001b[49m\u001b[43mpredict\u001b[49m\u001b[43m(\u001b[49m\u001b[43mtest\u001b[49m\u001b[43m)\u001b[49m\n",
      "\u001b[36mFile \u001b[39m\u001b[32md:\\ML Data Science Projects\\Titanic-ML\\venv\\Lib\\site-packages\\sklearn\\ensemble\\_forest.py:903\u001b[39m, in \u001b[36mForestClassifier.predict\u001b[39m\u001b[34m(self, X)\u001b[39m\n\u001b[32m    882\u001b[39m \u001b[38;5;28;01mdef\u001b[39;00m\u001b[38;5;250m \u001b[39m\u001b[34mpredict\u001b[39m(\u001b[38;5;28mself\u001b[39m, X):\n\u001b[32m    883\u001b[39m \u001b[38;5;250m    \u001b[39m\u001b[33;03m\"\"\"\u001b[39;00m\n\u001b[32m    884\u001b[39m \u001b[33;03m    Predict class for X.\u001b[39;00m\n\u001b[32m    885\u001b[39m \n\u001b[32m   (...)\u001b[39m\u001b[32m    901\u001b[39m \u001b[33;03m        The predicted classes.\u001b[39;00m\n\u001b[32m    902\u001b[39m \u001b[33;03m    \"\"\"\u001b[39;00m\n\u001b[32m--> \u001b[39m\u001b[32m903\u001b[39m     proba = \u001b[38;5;28;43mself\u001b[39;49m\u001b[43m.\u001b[49m\u001b[43mpredict_proba\u001b[49m\u001b[43m(\u001b[49m\u001b[43mX\u001b[49m\u001b[43m)\u001b[49m\n\u001b[32m    905\u001b[39m     \u001b[38;5;28;01mif\u001b[39;00m \u001b[38;5;28mself\u001b[39m.n_outputs_ == \u001b[32m1\u001b[39m:\n\u001b[32m    906\u001b[39m         \u001b[38;5;28;01mreturn\u001b[39;00m \u001b[38;5;28mself\u001b[39m.classes_.take(np.argmax(proba, axis=\u001b[32m1\u001b[39m), axis=\u001b[32m0\u001b[39m)\n",
      "\u001b[36mFile \u001b[39m\u001b[32md:\\ML Data Science Projects\\Titanic-ML\\venv\\Lib\\site-packages\\sklearn\\ensemble\\_forest.py:945\u001b[39m, in \u001b[36mForestClassifier.predict_proba\u001b[39m\u001b[34m(self, X)\u001b[39m\n\u001b[32m    943\u001b[39m check_is_fitted(\u001b[38;5;28mself\u001b[39m)\n\u001b[32m    944\u001b[39m \u001b[38;5;66;03m# Check data\u001b[39;00m\n\u001b[32m--> \u001b[39m\u001b[32m945\u001b[39m X = \u001b[38;5;28;43mself\u001b[39;49m\u001b[43m.\u001b[49m\u001b[43m_validate_X_predict\u001b[49m\u001b[43m(\u001b[49m\u001b[43mX\u001b[49m\u001b[43m)\u001b[49m\n\u001b[32m    947\u001b[39m \u001b[38;5;66;03m# Assign chunk of trees to jobs\u001b[39;00m\n\u001b[32m    948\u001b[39m n_jobs, _, _ = _partition_estimators(\u001b[38;5;28mself\u001b[39m.n_estimators, \u001b[38;5;28mself\u001b[39m.n_jobs)\n",
      "\u001b[36mFile \u001b[39m\u001b[32md:\\ML Data Science Projects\\Titanic-ML\\venv\\Lib\\site-packages\\sklearn\\ensemble\\_forest.py:637\u001b[39m, in \u001b[36mBaseForest._validate_X_predict\u001b[39m\u001b[34m(self, X)\u001b[39m\n\u001b[32m    634\u001b[39m \u001b[38;5;28;01melse\u001b[39;00m:\n\u001b[32m    635\u001b[39m     ensure_all_finite = \u001b[38;5;28;01mTrue\u001b[39;00m\n\u001b[32m--> \u001b[39m\u001b[32m637\u001b[39m X = \u001b[43mvalidate_data\u001b[49m\u001b[43m(\u001b[49m\n\u001b[32m    638\u001b[39m \u001b[43m    \u001b[49m\u001b[38;5;28;43mself\u001b[39;49m\u001b[43m,\u001b[49m\n\u001b[32m    639\u001b[39m \u001b[43m    \u001b[49m\u001b[43mX\u001b[49m\u001b[43m,\u001b[49m\n\u001b[32m    640\u001b[39m \u001b[43m    \u001b[49m\u001b[43mdtype\u001b[49m\u001b[43m=\u001b[49m\u001b[43mDTYPE\u001b[49m\u001b[43m,\u001b[49m\n\u001b[32m    641\u001b[39m \u001b[43m    \u001b[49m\u001b[43maccept_sparse\u001b[49m\u001b[43m=\u001b[49m\u001b[33;43m\"\u001b[39;49m\u001b[33;43mcsr\u001b[39;49m\u001b[33;43m\"\u001b[39;49m\u001b[43m,\u001b[49m\n\u001b[32m    642\u001b[39m \u001b[43m    \u001b[49m\u001b[43mreset\u001b[49m\u001b[43m=\u001b[49m\u001b[38;5;28;43;01mFalse\u001b[39;49;00m\u001b[43m,\u001b[49m\n\u001b[32m    643\u001b[39m \u001b[43m    \u001b[49m\u001b[43mensure_all_finite\u001b[49m\u001b[43m=\u001b[49m\u001b[43mensure_all_finite\u001b[49m\u001b[43m,\u001b[49m\n\u001b[32m    644\u001b[39m \u001b[43m\u001b[49m\u001b[43m)\u001b[49m\n\u001b[32m    645\u001b[39m \u001b[38;5;28;01mif\u001b[39;00m issparse(X) \u001b[38;5;129;01mand\u001b[39;00m (X.indices.dtype != np.intc \u001b[38;5;129;01mor\u001b[39;00m X.indptr.dtype != np.intc):\n\u001b[32m    646\u001b[39m     \u001b[38;5;28;01mraise\u001b[39;00m \u001b[38;5;167;01mValueError\u001b[39;00m(\u001b[33m\"\u001b[39m\u001b[33mNo support for np.int64 index based sparse matrices\u001b[39m\u001b[33m\"\u001b[39m)\n",
      "\u001b[36mFile \u001b[39m\u001b[32md:\\ML Data Science Projects\\Titanic-ML\\venv\\Lib\\site-packages\\sklearn\\utils\\validation.py:2929\u001b[39m, in \u001b[36mvalidate_data\u001b[39m\u001b[34m(_estimator, X, y, reset, validate_separately, skip_check_array, **check_params)\u001b[39m\n\u001b[32m   2845\u001b[39m \u001b[38;5;28;01mdef\u001b[39;00m\u001b[38;5;250m \u001b[39m\u001b[34mvalidate_data\u001b[39m(\n\u001b[32m   2846\u001b[39m     _estimator,\n\u001b[32m   2847\u001b[39m     /,\n\u001b[32m   (...)\u001b[39m\u001b[32m   2853\u001b[39m     **check_params,\n\u001b[32m   2854\u001b[39m ):\n\u001b[32m   2855\u001b[39m \u001b[38;5;250m    \u001b[39m\u001b[33;03m\"\"\"Validate input data and set or check feature names and counts of the input.\u001b[39;00m\n\u001b[32m   2856\u001b[39m \n\u001b[32m   2857\u001b[39m \u001b[33;03m    This helper function should be used in an estimator that requires input\u001b[39;00m\n\u001b[32m   (...)\u001b[39m\u001b[32m   2927\u001b[39m \u001b[33;03m        validated.\u001b[39;00m\n\u001b[32m   2928\u001b[39m \u001b[33;03m    \"\"\"\u001b[39;00m\n\u001b[32m-> \u001b[39m\u001b[32m2929\u001b[39m     \u001b[43m_check_feature_names\u001b[49m\u001b[43m(\u001b[49m\u001b[43m_estimator\u001b[49m\u001b[43m,\u001b[49m\u001b[43m \u001b[49m\u001b[43mX\u001b[49m\u001b[43m,\u001b[49m\u001b[43m \u001b[49m\u001b[43mreset\u001b[49m\u001b[43m=\u001b[49m\u001b[43mreset\u001b[49m\u001b[43m)\u001b[49m\n\u001b[32m   2930\u001b[39m     tags = get_tags(_estimator)\n\u001b[32m   2931\u001b[39m     \u001b[38;5;28;01mif\u001b[39;00m y \u001b[38;5;129;01mis\u001b[39;00m \u001b[38;5;28;01mNone\u001b[39;00m \u001b[38;5;129;01mand\u001b[39;00m tags.target_tags.required:\n",
      "\u001b[36mFile \u001b[39m\u001b[32md:\\ML Data Science Projects\\Titanic-ML\\venv\\Lib\\site-packages\\sklearn\\utils\\validation.py:2787\u001b[39m, in \u001b[36m_check_feature_names\u001b[39m\u001b[34m(estimator, X, reset)\u001b[39m\n\u001b[32m   2784\u001b[39m \u001b[38;5;28;01mif\u001b[39;00m \u001b[38;5;129;01mnot\u001b[39;00m missing_names \u001b[38;5;129;01mand\u001b[39;00m \u001b[38;5;129;01mnot\u001b[39;00m unexpected_names:\n\u001b[32m   2785\u001b[39m     message += \u001b[33m\"\u001b[39m\u001b[33mFeature names must be in the same order as they were in fit.\u001b[39m\u001b[38;5;130;01m\\n\u001b[39;00m\u001b[33m\"\u001b[39m\n\u001b[32m-> \u001b[39m\u001b[32m2787\u001b[39m \u001b[38;5;28;01mraise\u001b[39;00m \u001b[38;5;167;01mValueError\u001b[39;00m(message)\n",
      "\u001b[31mValueError\u001b[39m: The feature names should match those that were passed during fit.\nFeature names unseen at fit time:\n- Cabin\n- Embarked\n- Name\n- PassengerId\n- Sex\n- ...\nFeature names seen at fit time, yet now missing:\n- Age_was_nan\n- Cabin_B\n- Cabin_C\n- Cabin_E\n- Cabin_M\n- ...\n"
     ]
    }
   ],
   "source": [
    "test = pd.read_csv(os.path.join(os.path.dirname(os.getcwd()), 'data', 'raw', 'test.csv'))\n",
    "rfc.predict(test)"
   ]
  },
  {
   "cell_type": "code",
   "execution_count": null,
   "id": "a072df00",
   "metadata": {},
   "outputs": [],
   "source": []
  }
 ],
 "metadata": {
  "kernelspec": {
   "display_name": "venv",
   "language": "python",
   "name": "python3"
  },
  "language_info": {
   "codemirror_mode": {
    "name": "ipython",
    "version": 3
   },
   "file_extension": ".py",
   "mimetype": "text/x-python",
   "name": "python",
   "nbconvert_exporter": "python",
   "pygments_lexer": "ipython3",
   "version": "3.12.2"
  }
 },
 "nbformat": 4,
 "nbformat_minor": 5
}
