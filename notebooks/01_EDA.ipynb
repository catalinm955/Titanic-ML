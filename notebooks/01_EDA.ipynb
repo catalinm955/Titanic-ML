{
 "cells": [
  {
   "cell_type": "markdown",
   "id": "727a8a25-1b56-4512-a3b2-26a0bf8599eb",
   "metadata": {},
   "source": [
    "# 1. Introduction\n",
    "The scope of the notebook is to prepocess the dataset and perform data exploration"
   ]
  },
  {
   "cell_type": "markdown",
   "id": "f1a0c497-ce6c-4b88-95c9-173b5f26c078",
   "metadata": {},
   "source": [
    "# 2. Load Data"
   ]
  },
  {
   "cell_type": "code",
   "execution_count": 1,
   "id": "4be19314-9906-43a7-9857-5231db83bf54",
   "metadata": {},
   "outputs": [],
   "source": [
    "# Import libraries\n",
    "import os\n",
    "import pandas as pd\n",
    "\n",
    "# Get the train.csv path\n",
    "main_dir = os.path.dirname(os.getcwd())\n",
    "file_path = main_dir + '\\\\data\\\\raw\\\\train.csv'\n",
    "\n",
    "# Load train.csv\n",
    "train_dataset = pd.read_csv(file_path)"
   ]
  },
  {
   "cell_type": "markdown",
   "id": "e0c4d431-6b5a-4c22-b693-399e38591665",
   "metadata": {},
   "source": [
    "# 3. Descriptive Statistics"
   ]
  },
  {
   "cell_type": "code",
   "execution_count": 2,
   "id": "971ca1d4-f98b-4fcf-8be4-cfb290052879",
   "metadata": {},
   "outputs": [
    {
     "data": {
      "text/plain": [
       "{'PassengerId': 'Passenger Id',\n",
       " 'Survived': 'Survival',\n",
       " 'Pclass': 'Ticket class',\n",
       " 'Name': 'Name',\n",
       " 'Sex': 'Sex',\n",
       " 'Age': 'Age in years',\n",
       " 'SibSp': '# of siblings/spouses',\n",
       " 'Parch': '# of parents/children',\n",
       " 'Ticket': 'Ticket number',\n",
       " 'Fare': 'Passenger fare',\n",
       " 'Cabin': 'Cabin number',\n",
       " 'Embarked': 'Port of Embarkation'}"
      ]
     },
     "execution_count": 2,
     "metadata": {},
     "output_type": "execute_result"
    }
   ],
   "source": [
    "# List all the available columns\n",
    "train_columns = train_dataset.columns.to_list()\n",
    "\n",
    "# Include a description for the columns based on Kaggle\n",
    "train_columns_description = ['Passenger Id', \n",
    "                             'Survival', \n",
    "                             'Ticket class', \n",
    "                             'Name',\n",
    "                             'Sex', \n",
    "                             'Age in years', \n",
    "                             '# of siblings/spouses', \n",
    "                             '# of parents/children', \n",
    "                             'Ticket number', \n",
    "                             'Passenger fare',\n",
    "                             'Cabin number',\n",
    "                             'Port of Embarkation']\n",
    "\n",
    "# Map descriptions to columns\n",
    "train_columns = dict(zip(train_columns, train_columns_description))\n",
    "train_columns"
   ]
  },
  {
   "cell_type": "markdown",
   "id": "ad19603a-c5e1-49a9-afcb-048ad46debaf",
   "metadata": {},
   "source": [
    "## 3.1. train_dataset Samples"
   ]
  },
  {
   "cell_type": "code",
   "execution_count": 3,
   "id": "ad13e706-c77d-49d6-84f8-74b4dd99394e",
   "metadata": {},
   "outputs": [
    {
     "data": {
      "text/html": [
       "<div>\n",
       "<style scoped>\n",
       "    .dataframe tbody tr th:only-of-type {\n",
       "        vertical-align: middle;\n",
       "    }\n",
       "\n",
       "    .dataframe tbody tr th {\n",
       "        vertical-align: top;\n",
       "    }\n",
       "\n",
       "    .dataframe thead th {\n",
       "        text-align: right;\n",
       "    }\n",
       "</style>\n",
       "<table border=\"1\" class=\"dataframe\">\n",
       "  <thead>\n",
       "    <tr style=\"text-align: right;\">\n",
       "      <th></th>\n",
       "      <th>PassengerId</th>\n",
       "      <th>Survived</th>\n",
       "      <th>Pclass</th>\n",
       "      <th>Name</th>\n",
       "      <th>Sex</th>\n",
       "      <th>Age</th>\n",
       "      <th>SibSp</th>\n",
       "      <th>Parch</th>\n",
       "      <th>Ticket</th>\n",
       "      <th>Fare</th>\n",
       "      <th>Cabin</th>\n",
       "      <th>Embarked</th>\n",
       "    </tr>\n",
       "  </thead>\n",
       "  <tbody>\n",
       "    <tr>\n",
       "      <th>0</th>\n",
       "      <td>1</td>\n",
       "      <td>0</td>\n",
       "      <td>3</td>\n",
       "      <td>Braund, Mr. Owen Harris</td>\n",
       "      <td>male</td>\n",
       "      <td>22.0</td>\n",
       "      <td>1</td>\n",
       "      <td>0</td>\n",
       "      <td>A/5 21171</td>\n",
       "      <td>7.2500</td>\n",
       "      <td>NaN</td>\n",
       "      <td>S</td>\n",
       "    </tr>\n",
       "    <tr>\n",
       "      <th>1</th>\n",
       "      <td>2</td>\n",
       "      <td>1</td>\n",
       "      <td>1</td>\n",
       "      <td>Cumings, Mrs. John Bradley (Florence Briggs Th...</td>\n",
       "      <td>female</td>\n",
       "      <td>38.0</td>\n",
       "      <td>1</td>\n",
       "      <td>0</td>\n",
       "      <td>PC 17599</td>\n",
       "      <td>71.2833</td>\n",
       "      <td>C85</td>\n",
       "      <td>C</td>\n",
       "    </tr>\n",
       "    <tr>\n",
       "      <th>2</th>\n",
       "      <td>3</td>\n",
       "      <td>1</td>\n",
       "      <td>3</td>\n",
       "      <td>Heikkinen, Miss. Laina</td>\n",
       "      <td>female</td>\n",
       "      <td>26.0</td>\n",
       "      <td>0</td>\n",
       "      <td>0</td>\n",
       "      <td>STON/O2. 3101282</td>\n",
       "      <td>7.9250</td>\n",
       "      <td>NaN</td>\n",
       "      <td>S</td>\n",
       "    </tr>\n",
       "    <tr>\n",
       "      <th>3</th>\n",
       "      <td>4</td>\n",
       "      <td>1</td>\n",
       "      <td>1</td>\n",
       "      <td>Futrelle, Mrs. Jacques Heath (Lily May Peel)</td>\n",
       "      <td>female</td>\n",
       "      <td>35.0</td>\n",
       "      <td>1</td>\n",
       "      <td>0</td>\n",
       "      <td>113803</td>\n",
       "      <td>53.1000</td>\n",
       "      <td>C123</td>\n",
       "      <td>S</td>\n",
       "    </tr>\n",
       "    <tr>\n",
       "      <th>4</th>\n",
       "      <td>5</td>\n",
       "      <td>0</td>\n",
       "      <td>3</td>\n",
       "      <td>Allen, Mr. William Henry</td>\n",
       "      <td>male</td>\n",
       "      <td>35.0</td>\n",
       "      <td>0</td>\n",
       "      <td>0</td>\n",
       "      <td>373450</td>\n",
       "      <td>8.0500</td>\n",
       "      <td>NaN</td>\n",
       "      <td>S</td>\n",
       "    </tr>\n",
       "  </tbody>\n",
       "</table>\n",
       "</div>"
      ],
      "text/plain": [
       "   PassengerId  Survived  Pclass  \\\n",
       "0            1         0       3   \n",
       "1            2         1       1   \n",
       "2            3         1       3   \n",
       "3            4         1       1   \n",
       "4            5         0       3   \n",
       "\n",
       "                                                Name     Sex   Age  SibSp  \\\n",
       "0                            Braund, Mr. Owen Harris    male  22.0      1   \n",
       "1  Cumings, Mrs. John Bradley (Florence Briggs Th...  female  38.0      1   \n",
       "2                             Heikkinen, Miss. Laina  female  26.0      0   \n",
       "3       Futrelle, Mrs. Jacques Heath (Lily May Peel)  female  35.0      1   \n",
       "4                           Allen, Mr. William Henry    male  35.0      0   \n",
       "\n",
       "   Parch            Ticket     Fare Cabin Embarked  \n",
       "0      0         A/5 21171   7.2500   NaN        S  \n",
       "1      0          PC 17599  71.2833   C85        C  \n",
       "2      0  STON/O2. 3101282   7.9250   NaN        S  \n",
       "3      0            113803  53.1000  C123        S  \n",
       "4      0            373450   8.0500   NaN        S  "
      ]
     },
     "execution_count": 3,
     "metadata": {},
     "output_type": "execute_result"
    }
   ],
   "source": [
    "train_dataset.head()"
   ]
  },
  {
   "cell_type": "markdown",
   "id": "205f3c78-7bb3-4c7b-ad84-962e22788ebb",
   "metadata": {},
   "source": [
    "## 3.2 Describe train_dataset"
   ]
  },
  {
   "cell_type": "markdown",
   "id": "87b52554-6beb-457c-8b0e-5950a2dc1859",
   "metadata": {},
   "source": [
    "### 3.2.1. Data Types, Missing Values and Cardinality"
   ]
  },
  {
   "cell_type": "code",
   "execution_count": 4,
   "id": "8ade34f5-0528-4d16-bac8-d5bee390da19",
   "metadata": {},
   "outputs": [
    {
     "data": {
      "text/html": [
       "<div>\n",
       "<style scoped>\n",
       "    .dataframe tbody tr th:only-of-type {\n",
       "        vertical-align: middle;\n",
       "    }\n",
       "\n",
       "    .dataframe tbody tr th {\n",
       "        vertical-align: top;\n",
       "    }\n",
       "\n",
       "    .dataframe thead th {\n",
       "        text-align: right;\n",
       "    }\n",
       "</style>\n",
       "<table border=\"1\" class=\"dataframe\">\n",
       "  <thead>\n",
       "    <tr style=\"text-align: right;\">\n",
       "      <th></th>\n",
       "      <th>Feature</th>\n",
       "      <th>Data Type</th>\n",
       "      <th>Nulls</th>\n",
       "      <th>Nulls %</th>\n",
       "      <th>Cardinality</th>\n",
       "      <th>Cardinality %</th>\n",
       "    </tr>\n",
       "  </thead>\n",
       "  <tbody>\n",
       "    <tr>\n",
       "      <th>0</th>\n",
       "      <td>PassengerId</td>\n",
       "      <td>int64</td>\n",
       "      <td>0</td>\n",
       "      <td>0.0</td>\n",
       "      <td>891</td>\n",
       "      <td>100.0</td>\n",
       "    </tr>\n",
       "    <tr>\n",
       "      <th>1</th>\n",
       "      <td>Survived</td>\n",
       "      <td>int64</td>\n",
       "      <td>0</td>\n",
       "      <td>0.0</td>\n",
       "      <td>2</td>\n",
       "      <td>0.2</td>\n",
       "    </tr>\n",
       "    <tr>\n",
       "      <th>2</th>\n",
       "      <td>Pclass</td>\n",
       "      <td>int64</td>\n",
       "      <td>0</td>\n",
       "      <td>0.0</td>\n",
       "      <td>3</td>\n",
       "      <td>0.3</td>\n",
       "    </tr>\n",
       "    <tr>\n",
       "      <th>3</th>\n",
       "      <td>Name</td>\n",
       "      <td>object</td>\n",
       "      <td>0</td>\n",
       "      <td>0.0</td>\n",
       "      <td>891</td>\n",
       "      <td>100.0</td>\n",
       "    </tr>\n",
       "    <tr>\n",
       "      <th>4</th>\n",
       "      <td>Sex</td>\n",
       "      <td>object</td>\n",
       "      <td>0</td>\n",
       "      <td>0.0</td>\n",
       "      <td>2</td>\n",
       "      <td>0.2</td>\n",
       "    </tr>\n",
       "    <tr>\n",
       "      <th>5</th>\n",
       "      <td>Age</td>\n",
       "      <td>float64</td>\n",
       "      <td>177</td>\n",
       "      <td>19.9</td>\n",
       "      <td>88</td>\n",
       "      <td>9.9</td>\n",
       "    </tr>\n",
       "    <tr>\n",
       "      <th>6</th>\n",
       "      <td>SibSp</td>\n",
       "      <td>int64</td>\n",
       "      <td>0</td>\n",
       "      <td>0.0</td>\n",
       "      <td>7</td>\n",
       "      <td>0.8</td>\n",
       "    </tr>\n",
       "    <tr>\n",
       "      <th>7</th>\n",
       "      <td>Parch</td>\n",
       "      <td>int64</td>\n",
       "      <td>0</td>\n",
       "      <td>0.0</td>\n",
       "      <td>7</td>\n",
       "      <td>0.8</td>\n",
       "    </tr>\n",
       "    <tr>\n",
       "      <th>8</th>\n",
       "      <td>Ticket</td>\n",
       "      <td>object</td>\n",
       "      <td>0</td>\n",
       "      <td>0.0</td>\n",
       "      <td>681</td>\n",
       "      <td>76.4</td>\n",
       "    </tr>\n",
       "    <tr>\n",
       "      <th>9</th>\n",
       "      <td>Fare</td>\n",
       "      <td>float64</td>\n",
       "      <td>0</td>\n",
       "      <td>0.0</td>\n",
       "      <td>248</td>\n",
       "      <td>27.8</td>\n",
       "    </tr>\n",
       "    <tr>\n",
       "      <th>10</th>\n",
       "      <td>Cabin</td>\n",
       "      <td>object</td>\n",
       "      <td>687</td>\n",
       "      <td>77.1</td>\n",
       "      <td>147</td>\n",
       "      <td>16.5</td>\n",
       "    </tr>\n",
       "    <tr>\n",
       "      <th>11</th>\n",
       "      <td>Embarked</td>\n",
       "      <td>object</td>\n",
       "      <td>2</td>\n",
       "      <td>0.2</td>\n",
       "      <td>3</td>\n",
       "      <td>0.3</td>\n",
       "    </tr>\n",
       "  </tbody>\n",
       "</table>\n",
       "</div>"
      ],
      "text/plain": [
       "        Feature Data Type  Nulls  Nulls %  Cardinality  Cardinality %\n",
       "0   PassengerId     int64      0      0.0          891          100.0\n",
       "1      Survived     int64      0      0.0            2            0.2\n",
       "2        Pclass     int64      0      0.0            3            0.3\n",
       "3          Name    object      0      0.0          891          100.0\n",
       "4           Sex    object      0      0.0            2            0.2\n",
       "5           Age   float64    177     19.9           88            9.9\n",
       "6         SibSp     int64      0      0.0            7            0.8\n",
       "7         Parch     int64      0      0.0            7            0.8\n",
       "8        Ticket    object      0      0.0          681           76.4\n",
       "9          Fare   float64      0      0.0          248           27.8\n",
       "10        Cabin    object    687     77.1          147           16.5\n",
       "11     Embarked    object      2      0.2            3            0.3"
      ]
     },
     "execution_count": 4,
     "metadata": {},
     "output_type": "execute_result"
    }
   ],
   "source": [
    "# Extract the data type of the columns\n",
    "train_dataset_dtype = train_dataset.dtypes\n",
    "\n",
    "# Calculate the number of null values for each column\n",
    "train_dataset_nulls = train_dataset.isnull().sum()\n",
    "# Calculate nulls %\n",
    "train_dataset_nulls_p = round(train_dataset_nulls / len(train_dataset) * 100, 1)\n",
    "\n",
    "# Calculate the unique values (cardinality) of the features\n",
    "train_dataset_cardinality = train_dataset.nunique()\n",
    "train_dataset_cardinality_p = round(train_dataset.nunique() / len(train_dataset) * 100, 1)\n",
    "\n",
    "# Build the DataFrame\n",
    "train_dataset_info = pd.DataFrame({'Data Type': train_dataset_dtype,\n",
    "                                   'Nulls': train_dataset_nulls,\n",
    "                                   'Nulls %': train_dataset_nulls_p,\n",
    "                                   'Cardinality': train_dataset_cardinality,\n",
    "                                   'Cardinality %': train_dataset_cardinality_p}\n",
    "                                 ).reset_index().rename(columns = {'index': \"Feature\"})\n",
    "train_dataset_info"
   ]
  },
  {
   "cell_type": "markdown",
   "id": "3d33feae-54c6-44fe-a03b-1e744e503e58",
   "metadata": {},
   "source": [
    "### 3.2.2. Statistics metrics"
   ]
  },
  {
   "cell_type": "code",
   "execution_count": 5,
   "id": "5f91ba4a-dde4-4d39-96e5-47fe6e6e52a8",
   "metadata": {
    "scrolled": true
   },
   "outputs": [
    {
     "data": {
      "text/html": [
       "<div>\n",
       "<style scoped>\n",
       "    .dataframe tbody tr th:only-of-type {\n",
       "        vertical-align: middle;\n",
       "    }\n",
       "\n",
       "    .dataframe tbody tr th {\n",
       "        vertical-align: top;\n",
       "    }\n",
       "\n",
       "    .dataframe thead th {\n",
       "        text-align: right;\n",
       "    }\n",
       "</style>\n",
       "<table border=\"1\" class=\"dataframe\">\n",
       "  <thead>\n",
       "    <tr style=\"text-align: right;\">\n",
       "      <th></th>\n",
       "      <th>PassengerId</th>\n",
       "      <th>Survived</th>\n",
       "      <th>Pclass</th>\n",
       "      <th>Age</th>\n",
       "      <th>SibSp</th>\n",
       "      <th>Parch</th>\n",
       "      <th>Fare</th>\n",
       "    </tr>\n",
       "  </thead>\n",
       "  <tbody>\n",
       "    <tr>\n",
       "      <th>count</th>\n",
       "      <td>891.000000</td>\n",
       "      <td>891.000000</td>\n",
       "      <td>891.000000</td>\n",
       "      <td>714.000000</td>\n",
       "      <td>891.000000</td>\n",
       "      <td>891.000000</td>\n",
       "      <td>891.000000</td>\n",
       "    </tr>\n",
       "    <tr>\n",
       "      <th>mean</th>\n",
       "      <td>446.000000</td>\n",
       "      <td>0.383838</td>\n",
       "      <td>2.308642</td>\n",
       "      <td>29.699118</td>\n",
       "      <td>0.523008</td>\n",
       "      <td>0.381594</td>\n",
       "      <td>32.204208</td>\n",
       "    </tr>\n",
       "    <tr>\n",
       "      <th>std</th>\n",
       "      <td>257.353842</td>\n",
       "      <td>0.486592</td>\n",
       "      <td>0.836071</td>\n",
       "      <td>14.526497</td>\n",
       "      <td>1.102743</td>\n",
       "      <td>0.806057</td>\n",
       "      <td>49.693429</td>\n",
       "    </tr>\n",
       "    <tr>\n",
       "      <th>min</th>\n",
       "      <td>1.000000</td>\n",
       "      <td>0.000000</td>\n",
       "      <td>1.000000</td>\n",
       "      <td>0.420000</td>\n",
       "      <td>0.000000</td>\n",
       "      <td>0.000000</td>\n",
       "      <td>0.000000</td>\n",
       "    </tr>\n",
       "    <tr>\n",
       "      <th>25%</th>\n",
       "      <td>223.500000</td>\n",
       "      <td>0.000000</td>\n",
       "      <td>2.000000</td>\n",
       "      <td>20.125000</td>\n",
       "      <td>0.000000</td>\n",
       "      <td>0.000000</td>\n",
       "      <td>7.910400</td>\n",
       "    </tr>\n",
       "    <tr>\n",
       "      <th>50%</th>\n",
       "      <td>446.000000</td>\n",
       "      <td>0.000000</td>\n",
       "      <td>3.000000</td>\n",
       "      <td>28.000000</td>\n",
       "      <td>0.000000</td>\n",
       "      <td>0.000000</td>\n",
       "      <td>14.454200</td>\n",
       "    </tr>\n",
       "    <tr>\n",
       "      <th>75%</th>\n",
       "      <td>668.500000</td>\n",
       "      <td>1.000000</td>\n",
       "      <td>3.000000</td>\n",
       "      <td>38.000000</td>\n",
       "      <td>1.000000</td>\n",
       "      <td>0.000000</td>\n",
       "      <td>31.000000</td>\n",
       "    </tr>\n",
       "    <tr>\n",
       "      <th>max</th>\n",
       "      <td>891.000000</td>\n",
       "      <td>1.000000</td>\n",
       "      <td>3.000000</td>\n",
       "      <td>80.000000</td>\n",
       "      <td>8.000000</td>\n",
       "      <td>6.000000</td>\n",
       "      <td>512.329200</td>\n",
       "    </tr>\n",
       "  </tbody>\n",
       "</table>\n",
       "</div>"
      ],
      "text/plain": [
       "       PassengerId    Survived      Pclass         Age       SibSp  \\\n",
       "count   891.000000  891.000000  891.000000  714.000000  891.000000   \n",
       "mean    446.000000    0.383838    2.308642   29.699118    0.523008   \n",
       "std     257.353842    0.486592    0.836071   14.526497    1.102743   \n",
       "min       1.000000    0.000000    1.000000    0.420000    0.000000   \n",
       "25%     223.500000    0.000000    2.000000   20.125000    0.000000   \n",
       "50%     446.000000    0.000000    3.000000   28.000000    0.000000   \n",
       "75%     668.500000    1.000000    3.000000   38.000000    1.000000   \n",
       "max     891.000000    1.000000    3.000000   80.000000    8.000000   \n",
       "\n",
       "            Parch        Fare  \n",
       "count  891.000000  891.000000  \n",
       "mean     0.381594   32.204208  \n",
       "std      0.806057   49.693429  \n",
       "min      0.000000    0.000000  \n",
       "25%      0.000000    7.910400  \n",
       "50%      0.000000   14.454200  \n",
       "75%      0.000000   31.000000  \n",
       "max      6.000000  512.329200  "
      ]
     },
     "execution_count": 5,
     "metadata": {},
     "output_type": "execute_result"
    }
   ],
   "source": [
    "# Describe the train_dataset\n",
    "train_dataset.describe()"
   ]
  },
  {
   "cell_type": "code",
   "execution_count": 6,
   "id": "6045a6fc-ab20-4c8a-8721-90708d379b53",
   "metadata": {
    "scrolled": true
   },
   "outputs": [
    {
     "data": {
      "text/plain": [
       "PassengerId    0.000000\n",
       "Survived       0.478523\n",
       "Pclass        -0.630548\n",
       "Age            0.389108\n",
       "SibSp          3.695352\n",
       "Parch          2.749117\n",
       "Fare           4.787317\n",
       "dtype: float64"
      ]
     },
     "execution_count": 6,
     "metadata": {},
     "output_type": "execute_result"
    }
   ],
   "source": [
    "# Function to extract numerical columns and calculate the skew\n",
    "def col_skew(df):\n",
    "    df_numeric_cols = df.select_dtypes(include = ['int64', 'float64']).columns\n",
    "    df_numeric_cols_skew = df[df_numeric_cols].skew()\n",
    "    return df_numeric_cols_skew\n",
    "\n",
    "# Extract numerical columns and calculate the skew for the unprocessed train dataset\n",
    "col_skew(train_dataset)"
   ]
  },
  {
   "cell_type": "code",
   "execution_count": 7,
   "id": "2202b92e-a7c1-4a65-b63b-98e17f1252ec",
   "metadata": {},
   "outputs": [],
   "source": [
    "# Extract categorical columns\n",
    "train_cat_cols = train_dataset.select_dtypes(include = 'object')"
   ]
  },
  {
   "cell_type": "markdown",
   "id": "3134a821-7c9a-4b3e-80c0-802e5882fa2d",
   "metadata": {},
   "source": [
    "# 4. Handling Missing Values (manually)"
   ]
  },
  {
   "cell_type": "markdown",
   "id": "496dc1ad-6ee8-4c4c-8e90-e2586520f510",
   "metadata": {},
   "source": [
    "## 4.1. Numerical columns"
   ]
  },
  {
   "cell_type": "code",
   "execution_count": 8,
   "id": "805daf6c-14aa-40b0-8e14-be3136b47736",
   "metadata": {},
   "outputs": [],
   "source": [
    "train_dataset_processed = train_dataset.copy()\n",
    "\n",
    "# Extract numerical columns and calculate the skew\n",
    "col_skew(train_dataset_processed)\n",
    "\n",
    "# Function to replace missing values for numerical columns\n",
    "def num_fill_nan(df):\n",
    "    # Extract the columns that contain missing values\n",
    "    df_numeric = df.select_dtypes(include = ['int64', 'float64'])\n",
    "    df_nan_col = df_numeric.columns[df_numeric.isnull().any()].tolist()\n",
    "    # Iterate through all the columns with missing values and fill them with mean if skew value <= 0.5 and with the median if skew value > 0.5\n",
    "    for col in df_nan_col:\n",
    "        skew_val = col_skew(df)[col]\n",
    "        if skew_val <= 0.5:\n",
    "            df[col] = df[col].fillna(df[col].mean())\n",
    "        else:\n",
    "            df[col] = df[col].fillna(df[col].median())\n",
    "    return df \n",
    "train_dataset_processed = num_fill_nan(train_dataset_processed)\n",
    "\n",
    "# Create the \"Age_was_nan\" boolean column to identify what were the nan values which was filled in using the num_fill_nan function\n",
    "train_dataset_processed[\"Age_was_nan\"] = train_dataset[\"Age\"].isnull().astype(int)"
   ]
  },
  {
   "cell_type": "markdown",
   "id": "0b367829-5828-4511-810a-efbb670125a0",
   "metadata": {},
   "source": [
    "## 4.2. Categorical columns"
   ]
  },
  {
   "cell_type": "code",
   "execution_count": 9,
   "id": "9735a519-f367-4383-95a4-19feceedc2d1",
   "metadata": {},
   "outputs": [],
   "source": [
    "# # Function to replace missing values for categorical columns with \"Missing\"\n",
    "def cat_fill_nan(df):\n",
    "    df_categorical = df.select_dtypes(include = ['object'])\n",
    "    df_nan_col = df_categorical.columns[df_categorical.isnull().any()].tolist()\n",
    "    for col in df_nan_col:\n",
    "        df[col] = df[col].fillna(\"Missing\")\n",
    "    return df\n",
    "\n",
    "cat_fill_nan(train_dataset_processed)\n",
    "\n",
    "# Create \"Cabin_Letter\" column to extract the first letter of the Cabin\n",
    "train_dataset_processed['Cabin'] = train_dataset_processed['Cabin'].str[0]"
   ]
  },
  {
   "cell_type": "markdown",
   "id": "53d6ecea-556f-40e2-b2ca-479b603bc8aa",
   "metadata": {},
   "source": [
    "# 4. Distribution and Visualization"
   ]
  },
  {
   "cell_type": "code",
   "execution_count": 10,
   "id": "9471d67f-774c-4674-bbac-6f1b22834392",
   "metadata": {},
   "outputs": [],
   "source": [
    "# Function to create a histogram before/after for numerical columns\n",
    "import matplotlib.pyplot as plt\n",
    "import seaborn as sns\n",
    "def num_col_hist(col_before, col_after):    \n",
    "    plt.figure(figsize = (12, 4))\n",
    "    \n",
    "    # Distribution before\n",
    "    plt.subplot(1, 2, 1)\n",
    "    sns.histplot(col_before, kde = 'True', color = 'red')\n",
    "    plt.title(f'{col_before.name} with NaN')\n",
    "\n",
    "    # Distribution after\n",
    "    plt.subplot(1, 2, 2)\n",
    "    sns.histplot(col_after, kde = 'True', color = 'green')\n",
    "    plt.title(f'{col_after.name} without NaN')"
   ]
  },
  {
   "cell_type": "code",
   "execution_count": 11,
   "id": "0b808ef5-40c2-4590-ad82-4570dd670f37",
   "metadata": {},
   "outputs": [
    {
     "data": {
      "image/png": "[encoded data removed]",
      "text/plain": [
       "<Figure size 1200x400 with 2 Axes>"
      ]
     },
     "metadata": {},
     "output_type": "display_data"
    }
   ],
   "source": [
    "# Plot the \"Age\" column before and after filling the missing values\n",
    "num_col_hist(train_dataset['Age'], train_dataset_processed['Age'])"
   ]
  },
  {
   "cell_type": "code",
   "execution_count": 12,
   "id": "23f75b2a-70de-4aa6-bd30-63ef25b32893",
   "metadata": {},
   "outputs": [],
   "source": [
    "# # Function to create a countplot before/after for categorical columns\n",
    "def cat_col_plot(col_before, col_after, top_n = 15):\n",
    "    plt.figure(figsize = (14, 4))\n",
    "\n",
    "    # Distribution before\n",
    "    top_values_before = col_before.value_counts().nlargest(top_n)\n",
    "    col_grouped_before = col_before.apply(lambda x: x if x in top_values_before else \"Other\")\n",
    "\n",
    "    plt.subplot(1, 2, 1)\n",
    "    sns.countplot(x = col_grouped_before, order = list(top_values_before.index) + ['Other'], color = 'red')\n",
    "    plt.title(f'{col_before.name} with NaN')\n",
    "\n",
    "    # Distribution after\n",
    "    top_values_after = col_after.value_counts().nlargest(top_n)\n",
    "    col_grouped_after = col_after.apply(lambda x: x if x in top_values_after else \"Other\")\n",
    "\n",
    "    plt.subplot(1, 2, 2)\n",
    "    sns.countplot(x = col_grouped_after, order = list(top_values_after.index) + ['Other'], color = 'green')\n",
    "    plt.title(f'{col_after.name} without NaN')"
   ]
  },
  {
   "cell_type": "code",
   "execution_count": 13,
   "id": "b3bd1aec-4050-4c87-ac44-f9103377281f",
   "metadata": {},
   "outputs": [
    {
     "data": {
      "image/png": "[encoded data removed]",
      "text/plain": [
       "<Figure size 1400x400 with 2 Axes>"
      ]
     },
     "metadata": {},
     "output_type": "display_data"
    }
   ],
   "source": [
    "# Plot the \"Cabin\" before and after filling the missing values\n",
    "cat_col_plot(train_dataset['Cabin'], train_dataset_processed['Cabin'])"
   ]
  },
  {
   "cell_type": "code",
   "execution_count": 14,
   "id": "bfdadbe1-de6b-4498-9302-0f5b595a86a9",
   "metadata": {},
   "outputs": [
    {
     "data": {
      "image/png": "[encoded data removed]",
      "text/plain": [
       "<Figure size 1400x400 with 2 Axes>"
      ]
     },
     "metadata": {},
     "output_type": "display_data"
    }
   ],
   "source": [
    "# Plot the \"Embarked\" before and after filling the missing values\n",
    "cat_col_plot(train_dataset['Embarked'], train_dataset_processed['Embarked'])"
   ]
  },
  {
   "cell_type": "markdown",
   "id": "54274ada-88bb-447e-af3f-d2641df70610",
   "metadata": {},
   "source": [
    "# 5. Correlation and Relationship"
   ]
  },
  {
   "cell_type": "markdown",
   "id": "150cbb78-58c4-4c1f-94aa-608f10f0a3e2",
   "metadata": {},
   "source": [
    "## 5.1. Heatmaps\n",
    "Build Heatmaps to get the Pearson correlation matrix for numerical columns"
   ]
  },
  {
   "cell_type": "code",
   "execution_count": 15,
   "id": "2cdbda9e-caa1-4181-87ff-c1325a0adb2a",
   "metadata": {},
   "outputs": [
    {
     "data": {
      "text/plain": [
       "<Axes: >"
      ]
     },
     "execution_count": 15,
     "metadata": {},
     "output_type": "execute_result"
    },
    {
     "data": {
      "image/png": "[encoded data removed]",
      "text/plain": [
       "<Figure size 1000x400 with 2 Axes>"
      ]
     },
     "metadata": {},
     "output_type": "display_data"
    }
   ],
   "source": [
    "# Extract the numerical columns after processing the train dataset\n",
    "train_dataset_processed_num_cols = train_dataset.select_dtypes(include = ['int64', 'float64']).columns\n",
    "\n",
    "# Exclude PassengerID since it contains unique values and it's irrelevant\n",
    "train_dataset_processed_num_cols = train_dataset_processed_num_cols.drop('PassengerId')\n",
    "\n",
    "# Plot the columns using heatmap\n",
    "plt.figure(figsize = (10, 4))\n",
    "train_num_cols_corr = train_dataset_processed[train_dataset_processed_num_cols].corr() * 100\n",
    "sns.heatmap(train_num_cols_corr, annot = True, cmap = 'coolwarm', fmt = '.1f')"
   ]
  },
  {
   "cell_type": "code",
   "execution_count": 16,
   "id": "7fc7c814-0874-42de-a122-fe42acbb9acd",
   "metadata": {},
   "outputs": [],
   "source": [
    "# Function to automatically drop redundant features\n",
    "def drop_redundant_features(df, df_num_cols, target_col = 'Survived', ff_threshold = 0.8, ft_threshold = 0.1):\n",
    "    # Calculate features vs feature correlation\n",
    "    train_corr_cols = df_num_cols.drop(target_col)\n",
    "    train_ff_corr = df[train_corr_cols].corr().abs()\n",
    "    print('Feature vs feature Pearson correlation matrix:')\n",
    "    display(train_ff_corr)\n",
    "    \n",
    "    # Calculate features vs target correlation\n",
    "    train_ft_corr = df[train_corr_cols].corrwith(df[\"Survived\"]).abs().to_frame(name = 'Survived')\n",
    "    print('Feature vs target Pearson correlation matrix:')\n",
    "    display(train_ft_corr.sort_values(by = target_col, ascending = False))\n",
    "    \n",
    "    # Drop redundant columns based on Pearson Correlation\n",
    "    train_num_features_cols = set(train_corr_cols)\n",
    "    train_num_features_cols_discarded = set() \n",
    "    # Calculate the feature vs feature corr to remove colinearity (feature vs feature corr >= ff_threshold)\n",
    "    for i in range(len(train_corr_cols)):\n",
    "        for j in range(i + 1, len(train_corr_cols)): # i + 1 will exclude the duplicated correlations and the diagonal correlation (Age vs Age)\n",
    "            f_i = train_corr_cols[i]\n",
    "            f_j = train_corr_cols[j]\n",
    "            if train_ff_corr.loc[f_i, f_j] >= ff_threshold:\n",
    "                if train_ft_corr.loc[f_i, 'Survived'] >= train_ft_corr.loc[f_j, 'Survived']:\n",
    "                    train_num_features_cols.discard(f_j)\n",
    "                    train_num_features_cols_discarded.add(f_j)\n",
    "                else:\n",
    "                    train_num_features_cols.discard(f_i)\n",
    "                    train_num_features_cols_discarded.add(f_i)\n",
    "    \n",
    "    # Remove redundant features vs target (feature vs target corr < ft_threshold)\n",
    "    for f in list(train_num_features_cols):\n",
    "        if train_ft_corr.loc[f, 'Survived'] < ft_threshold:\n",
    "            train_num_features_cols.discard(f)\n",
    "            train_num_features_cols_discarded.add(f)\n",
    "            \n",
    "    # Print discarded columns and the correlation with the target\n",
    "    print(f'\\n❌ Discarded features: {sorted(train_num_features_cols_discarded)}')\n",
    "    for f in list(train_num_features_cols_discarded):\n",
    "        print(f'- Weak correlation of feature {f} with the target: {train_ft_corr.loc[f, target_col]:.2f}')\n",
    "\n",
    "    # Print kept columns and the correlation with the target\n",
    "    print(f'\\n✅ Kept features to be included in the model: {sorted(train_num_features_cols)}')\n",
    "    for f in train_num_features_cols:\n",
    "        print (f'- Feature \"{f}\" corelation with the target: {train_ft_corr.loc[f, target_col]:.2f}') \n",
    "    return train_num_features_cols\n",
    "\n",
    "drop_redundant_features(train_dataset_processed, train_dataset_processed_num_cols)"
   ]
  },
  {
   "cell_type": "code",
   "execution_count": 17,
   "id": "db6394f2-2344-4db6-9e88-56b1c581f10e",
   "metadata": {},
   "outputs": [
    {
     "name": "stdout",
     "output_type": "stream",
     "text": [
      "Feature vs feature Pearson correlation matrix:\n"
     ]
    },
    {
     "data": {
      "text/html": [
       "<div>\n",
       "<style scoped>\n",
       "    .dataframe tbody tr th:only-of-type {\n",
       "        vertical-align: middle;\n",
       "    }\n",
       "\n",
       "    .dataframe tbody tr th {\n",
       "        vertical-align: top;\n",
       "    }\n",
       "\n",
       "    .dataframe thead th {\n",
       "        text-align: right;\n",
       "    }\n",
       "</style>\n",
       "<table border=\"1\" class=\"dataframe\">\n",
       "  <thead>\n",
       "    <tr style=\"text-align: right;\">\n",
       "      <th></th>\n",
       "      <th>Pclass</th>\n",
       "      <th>Age</th>\n",
       "      <th>SibSp</th>\n",
       "      <th>Parch</th>\n",
       "      <th>Fare</th>\n",
       "    </tr>\n",
       "  </thead>\n",
       "  <tbody>\n",
       "    <tr>\n",
       "      <th>Pclass</th>\n",
       "      <td>1.000000</td>\n",
       "      <td>0.331339</td>\n",
       "      <td>0.083081</td>\n",
       "      <td>0.018443</td>\n",
       "      <td>0.549500</td>\n",
       "    </tr>\n",
       "    <tr>\n",
       "      <th>Age</th>\n",
       "      <td>0.331339</td>\n",
       "      <td>1.000000</td>\n",
       "      <td>0.232625</td>\n",
       "      <td>0.179191</td>\n",
       "      <td>0.091566</td>\n",
       "    </tr>\n",
       "    <tr>\n",
       "      <th>SibSp</th>\n",
       "      <td>0.083081</td>\n",
       "      <td>0.232625</td>\n",
       "      <td>1.000000</td>\n",
       "      <td>0.414838</td>\n",
       "      <td>0.159651</td>\n",
       "    </tr>\n",
       "    <tr>\n",
       "      <th>Parch</th>\n",
       "      <td>0.018443</td>\n",
       "      <td>0.179191</td>\n",
       "      <td>0.414838</td>\n",
       "      <td>1.000000</td>\n",
       "      <td>0.216225</td>\n",
       "    </tr>\n",
       "    <tr>\n",
       "      <th>Fare</th>\n",
       "      <td>0.549500</td>\n",
       "      <td>0.091566</td>\n",
       "      <td>0.159651</td>\n",
       "      <td>0.216225</td>\n",
       "      <td>1.000000</td>\n",
       "    </tr>\n",
       "  </tbody>\n",
       "</table>\n",
       "</div>"
      ],
      "text/plain": [
       "          Pclass       Age     SibSp     Parch      Fare\n",
       "Pclass  1.000000  0.331339  0.083081  0.018443  0.549500\n",
       "Age     0.331339  1.000000  0.232625  0.179191  0.091566\n",
       "SibSp   0.083081  0.232625  1.000000  0.414838  0.159651\n",
       "Parch   0.018443  0.179191  0.414838  1.000000  0.216225\n",
       "Fare    0.549500  0.091566  0.159651  0.216225  1.000000"
      ]
     },
     "metadata": {},
     "output_type": "display_data"
    },
    {
     "name": "stdout",
     "output_type": "stream",
     "text": [
      "Feature vs target Pearson correlation matrix:\n"
     ]
    },
    {
     "data": {
      "text/html": [
       "<div>\n",
       "<style scoped>\n",
       "    .dataframe tbody tr th:only-of-type {\n",
       "        vertical-align: middle;\n",
       "    }\n",
       "\n",
       "    .dataframe tbody tr th {\n",
       "        vertical-align: top;\n",
       "    }\n",
       "\n",
       "    .dataframe thead th {\n",
       "        text-align: right;\n",
       "    }\n",
       "</style>\n",
       "<table border=\"1\" class=\"dataframe\">\n",
       "  <thead>\n",
       "    <tr style=\"text-align: right;\">\n",
       "      <th></th>\n",
       "      <th>Survived</th>\n",
       "    </tr>\n",
       "  </thead>\n",
       "  <tbody>\n",
       "    <tr>\n",
       "      <th>Pclass</th>\n",
       "      <td>0.338481</td>\n",
       "    </tr>\n",
       "    <tr>\n",
       "      <th>Fare</th>\n",
       "      <td>0.257307</td>\n",
       "    </tr>\n",
       "    <tr>\n",
       "      <th>Parch</th>\n",
       "      <td>0.081629</td>\n",
       "    </tr>\n",
       "    <tr>\n",
       "      <th>Age</th>\n",
       "      <td>0.069809</td>\n",
       "    </tr>\n",
       "    <tr>\n",
       "      <th>SibSp</th>\n",
       "      <td>0.035322</td>\n",
       "    </tr>\n",
       "  </tbody>\n",
       "</table>\n",
       "</div>"
      ],
      "text/plain": [
       "        Survived\n",
       "Pclass  0.338481\n",
       "Fare    0.257307\n",
       "Parch   0.081629\n",
       "Age     0.069809\n",
       "SibSp   0.035322"
      ]
     },
     "metadata": {},
     "output_type": "display_data"
    },
    {
     "name": "stdout",
     "output_type": "stream",
     "text": [
      "\n",
      "❌ Discarded features: ['Age', 'Parch', 'SibSp']\n",
      "- Weak correlation of feature Parch with the target: 0.08\n",
      "- Weak correlation of feature Age with the target: 0.07\n",
      "- Weak correlation of feature SibSp with the target: 0.04\n",
      "\n",
      "✅ Kept features to be included in the model: ['Fare', 'Pclass']\n",
      "- Feature \"Pclass\" corelation with the target: 0.34\n",
      "- Feature \"Fare\" corelation with the target: 0.26\n"
     ]
    },
    {
     "data": {
      "text/plain": [
       "{'Fare', 'Pclass'}"
      ]
     },
     "execution_count": 17,
     "metadata": {},
     "output_type": "execute_result"
    }
   ],
   "source": []
  },
  {
   "cell_type": "markdown",
   "id": "058d1e5a-0509-4565-b836-cf6aed2c7fe9",
   "metadata": {},
   "source": [
    "# 7. Feature Transformation"
   ]
  },
  {
   "cell_type": "code",
   "execution_count": null,
   "id": "939cabb9-0ba4-4dbd-b097-57eeb754a7ca",
   "metadata": {},
   "outputs": [],
   "source": []
  },
  {
   "cell_type": "markdown",
   "id": "79c334d2-9a71-4b1e-975b-6e52c7ed9f2d",
   "metadata": {},
   "source": [
    "# 8. Next Steps"
   ]
  },
  {
   "cell_type": "code",
   "execution_count": null,
   "id": "e9336193-3ff3-4344-b0a8-4ac71baa7acc",
   "metadata": {},
   "outputs": [],
   "source": []
  }
 ],
 "metadata": {
  "kernelspec": {
   "display_name": "Python 3 (ipykernel)",
   "language": "python",
   "name": "python3"
  },
  "language_info": {
   "codemirror_mode": {
    "name": "ipython",
    "version": 3
   },
   "file_extension": ".py",
   "mimetype": "text/x-python",
   "name": "python",
   "nbconvert_exporter": "python",
   "pygments_lexer": "ipython3",
   "version": "3.12.2"
  }
 },
 "nbformat": 4,
 "nbformat_minor": 5
}
